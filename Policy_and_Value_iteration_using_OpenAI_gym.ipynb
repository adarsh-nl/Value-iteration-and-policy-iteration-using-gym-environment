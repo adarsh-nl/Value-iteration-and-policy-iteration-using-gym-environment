{
  "nbformat": 4,
  "nbformat_minor": 0,
  "metadata": {
    "colab": {
      "provenance": []
    },
    "kernelspec": {
      "name": "python3",
      "display_name": "Python 3"
    },
    "language_info": {
      "name": "python"
    }
  },
  "cells": [
    {
      "cell_type": "code",
      "source": [
        "!pip install gymnasium"
      ],
      "metadata": {
        "colab": {
          "base_uri": "https://localhost:8080/"
        },
        "id": "MgX4QjKOkWyT",
        "outputId": "6bd15ba7-e0af-4ca8-f275-d59aa62febd2"
      },
      "execution_count": 1,
      "outputs": [
        {
          "output_type": "stream",
          "name": "stdout",
          "text": [
            "Looking in indexes: https://pypi.org/simple, https://us-python.pkg.dev/colab-wheels/public/simple/\n",
            "Collecting gymnasium\n",
            "  Downloading gymnasium-0.27.1-py3-none-any.whl (883 kB)\n",
            "\u001b[2K     \u001b[90m━━━━━━━━━━━━━━━━━━━━━━━━━━━━━━━━━━━━━━━\u001b[0m \u001b[32m883.7/883.7 KB\u001b[0m \u001b[31m7.7 MB/s\u001b[0m eta \u001b[36m0:00:00\u001b[0m\n",
            "\u001b[?25hRequirement already satisfied: numpy>=1.21.0 in /usr/local/lib/python3.8/dist-packages (from gymnasium) (1.21.6)\n",
            "Requirement already satisfied: typing-extensions>=4.3.0 in /usr/local/lib/python3.8/dist-packages (from gymnasium) (4.4.0)\n",
            "Requirement already satisfied: cloudpickle>=1.2.0 in /usr/local/lib/python3.8/dist-packages (from gymnasium) (2.2.0)\n",
            "Collecting gymnasium-notices>=0.0.1\n",
            "  Downloading gymnasium_notices-0.0.1-py3-none-any.whl (2.8 kB)\n",
            "Requirement already satisfied: importlib-metadata>=4.8.0 in /usr/local/lib/python3.8/dist-packages (from gymnasium) (6.0.0)\n",
            "Collecting jax-jumpy>=0.2.0\n",
            "  Downloading jax_jumpy-0.2.0-py3-none-any.whl (11 kB)\n",
            "Requirement already satisfied: zipp>=0.5 in /usr/local/lib/python3.8/dist-packages (from importlib-metadata>=4.8.0->gymnasium) (3.11.0)\n",
            "Installing collected packages: gymnasium-notices, jax-jumpy, gymnasium\n",
            "Successfully installed gymnasium-0.27.1 gymnasium-notices-0.0.1 jax-jumpy-0.2.0\n"
          ]
        }
      ]
    },
    {
      "cell_type": "code",
      "source": [
        "!pip install gymnasium[box2d]"
      ],
      "metadata": {
        "colab": {
          "base_uri": "https://localhost:8080/"
        },
        "id": "li-n4rD1kgWM",
        "outputId": "ac72ddb5-b760-402d-dff2-d1a8a4c9d1f2"
      },
      "execution_count": 2,
      "outputs": [
        {
          "output_type": "stream",
          "name": "stdout",
          "text": [
            "Looking in indexes: https://pypi.org/simple, https://us-python.pkg.dev/colab-wheels/public/simple/\n",
            "Requirement already satisfied: gymnasium[box2d] in /usr/local/lib/python3.8/dist-packages (0.27.1)\n",
            "Requirement already satisfied: importlib-metadata>=4.8.0 in /usr/local/lib/python3.8/dist-packages (from gymnasium[box2d]) (6.0.0)\n",
            "Requirement already satisfied: gymnasium-notices>=0.0.1 in /usr/local/lib/python3.8/dist-packages (from gymnasium[box2d]) (0.0.1)\n",
            "Requirement already satisfied: cloudpickle>=1.2.0 in /usr/local/lib/python3.8/dist-packages (from gymnasium[box2d]) (2.2.0)\n",
            "Requirement already satisfied: numpy>=1.21.0 in /usr/local/lib/python3.8/dist-packages (from gymnasium[box2d]) (1.21.6)\n",
            "Requirement already satisfied: typing-extensions>=4.3.0 in /usr/local/lib/python3.8/dist-packages (from gymnasium[box2d]) (4.4.0)\n",
            "Requirement already satisfied: jax-jumpy>=0.2.0 in /usr/local/lib/python3.8/dist-packages (from gymnasium[box2d]) (0.2.0)\n",
            "Collecting pygame==2.1.3.dev8\n",
            "  Downloading pygame-2.1.3.dev8-cp38-cp38-manylinux_2_17_x86_64.manylinux2014_x86_64.whl (13.7 MB)\n",
            "\u001b[2K     \u001b[90m━━━━━━━━━━━━━━━━━━━━━━━━━━━━━━━━━━━━━━━━\u001b[0m \u001b[32m13.7/13.7 MB\u001b[0m \u001b[31m42.3 MB/s\u001b[0m eta \u001b[36m0:00:00\u001b[0m\n",
            "\u001b[?25hCollecting box2d-py==2.3.5\n",
            "  Downloading box2d-py-2.3.5.tar.gz (374 kB)\n",
            "\u001b[2K     \u001b[90m━━━━━━━━━━━━━━━━━━━━━━━━━━━━━━━━━━━━━━\u001b[0m \u001b[32m374.4/374.4 KB\u001b[0m \u001b[31m32.0 MB/s\u001b[0m eta \u001b[36m0:00:00\u001b[0m\n",
            "\u001b[?25h  Preparing metadata (setup.py) ... \u001b[?25l\u001b[?25hdone\n",
            "Collecting swig==4.*\n",
            "  Downloading swig-4.1.1-py2.py3-none-manylinux_2_5_x86_64.manylinux1_x86_64.whl (1.8 MB)\n",
            "\u001b[2K     \u001b[90m━━━━━━━━━━━━━━━━━━━━━━━━━━━━━━━━━━━━━━━━\u001b[0m \u001b[32m1.8/1.8 MB\u001b[0m \u001b[31m60.1 MB/s\u001b[0m eta \u001b[36m0:00:00\u001b[0m\n",
            "\u001b[?25hRequirement already satisfied: zipp>=0.5 in /usr/local/lib/python3.8/dist-packages (from importlib-metadata>=4.8.0->gymnasium[box2d]) (3.11.0)\n",
            "Building wheels for collected packages: box2d-py\n",
            "  \u001b[1;31merror\u001b[0m: \u001b[1msubprocess-exited-with-error\u001b[0m\n",
            "  \n",
            "  \u001b[31m×\u001b[0m \u001b[32mpython setup.py bdist_wheel\u001b[0m did not run successfully.\n",
            "  \u001b[31m│\u001b[0m exit code: \u001b[1;36m1\u001b[0m\n",
            "  \u001b[31m╰─>\u001b[0m See above for output.\n",
            "  \n",
            "  \u001b[1;35mnote\u001b[0m: This error originates from a subprocess, and is likely not a problem with pip.\n",
            "  Building wheel for box2d-py (setup.py) ... \u001b[?25lerror\n",
            "\u001b[31m  ERROR: Failed building wheel for box2d-py\u001b[0m\u001b[31m\n",
            "\u001b[0m\u001b[?25h  Running setup.py clean for box2d-py\n",
            "Failed to build box2d-py\n",
            "Installing collected packages: swig, box2d-py, pygame\n",
            "  Running setup.py install for box2d-py ... \u001b[?25l\u001b[?25hdone\n",
            "\u001b[33m  DEPRECATION: box2d-py was installed using the legacy 'setup.py install' method, because a wheel could not be built for it. A possible replacement is to fix the wheel build issue reported above. Discussion can be found at https://github.com/pypa/pip/issues/8368\u001b[0m\u001b[33m\n",
            "\u001b[0mSuccessfully installed box2d-py-2.3.5 pygame-2.1.3.dev8 swig-4.1.1\n"
          ]
        }
      ]
    },
    {
      "cell_type": "code",
      "source": [
        "import gym\n",
        "import numpy as np\n",
        "\n",
        "class Agent(gym.Env):\n",
        "    def __init__(self, n_states, n_actions):\n",
        "        self.observation_space = gym.spaces.Discrete(n_states)\n",
        "        self.states = [n for n in range(self.observation_space.n)]\n",
        "        self.action_space = gym.spaces.Discrete(n_actions)\n",
        "        self.actions = [n for n in range(self.action_space.n)]\n",
        "        self.P = np.random.rand(n_states, n_actions, n_states)\n",
        "        self.P /= self.P.sum(axis=2, keepdims=True)\n",
        "        self.rewards = np.random.rand(n_states, n_actions)\n",
        "        self.value = np.zeros((n_states, 1))\n",
        "        self.policy = np.random.randint(0, n_states, (n_states, 1))\n",
        "        self.state = 0\n",
        "        self.max_iterations = 100\n",
        "        self.discount_factor = 0.95\n",
        "        self.threshold = 1e-4\n",
        "\n",
        "    def step(self, action):\n",
        "        next_state = np.random.choice(n_states, p=self.P[self.state, action])\n",
        "        reward = self.rewards[self.state, action]\n",
        "        self.state = next_state\n",
        "        return next_state, reward\n",
        "\n",
        "          # Value iteration\n",
        "    def value_iteration(self):\n",
        "        reward_func = self.rewards\n",
        "        value_func = self.value\n",
        "        transition_probs = self.P\n",
        "        \n",
        "        for i in range(self.max_iterations):\n",
        "            previous_value_matrix = value_func.copy()\n",
        "            for state in self.states:\n",
        "                value_func[state] = np.max(reward_func[state] + self.discount_factor * transition_probs[state] @ previous_value_matrix)\n",
        "            if np.max(np.abs(previous_value_matrix - value_func)) < self.threshold:\n",
        "                break\n",
        "\n",
        "        self.value = value_func\n",
        "\n",
        "    def policy_iteration(self):\n",
        "        policy = self.policy\n",
        "        value_func = self.value\n",
        "        transition_probs = self.P\n",
        "        rewards = self.rewards\n",
        "        \n",
        "        for i in range(self.max_iterations):\n",
        "            previous_policy = policy.copy()\n",
        "            \n",
        "            # Policy evaluation step\n",
        "            for j in range(self.max_iterations):\n",
        "                previous_value_matrix = value_func.copy()\n",
        "                for state in self.states:\n",
        "                    action = policy[state]\n",
        "                    value_func[state] = rewards[state, action] + self.discount_factor * np.sum(transition_probs[state, action, :] * value_func.flatten())\n",
        "                if np.max(np.abs(previous_value_matrix - value_func)) < self.threshold:\n",
        "                    break\n",
        "            \n",
        "            # Policy improvement step\n",
        "            for state in self.states:\n",
        "                action_values = rewards[state, :] + self.discount_factor * np.sum(transition_probs[state, :, :] * value_func.flatten(), axis=1)\n",
        "                policy[state] = np.argmax(action_values)\n",
        "            \n",
        "            if (previous_policy == policy).all():\n",
        "                break\n",
        "        \n",
        "        self.value = value_func\n",
        "        self.policy = policy\n",
        "\n",
        "    def reset(self):\n",
        "        self.state = 0\n",
        "        return self.state\n",
        "\n",
        "# Instantiate the environment\n",
        "n_states = int(input(\"Enter the number of states\"))\n",
        "n_actions = int(input(\"Enter the number of actions\"))\n",
        "\n",
        "env = Agent(n_states, n_actions)"
      ],
      "metadata": {
        "colab": {
          "base_uri": "https://localhost:8080/"
        },
        "id": "AuMOslIn3DDK",
        "outputId": "36b553d1-7736-44e6-e797-97d6357e7c01"
      },
      "execution_count": 7,
      "outputs": [
        {
          "name": "stdout",
          "output_type": "stream",
          "text": [
            "Enter the number of states10\n",
            "Enter the number of actions10\n"
          ]
        }
      ]
    },
    {
      "cell_type": "code",
      "source": [
        "print(f\"observation space: {env.observation_space.n}, states created from observation space: {env.states}\")\n",
        "print(f\"action space: {env.action_space.n}, states created from observation space: {env.actions}\")\n",
        "print(f\"value of each states:\\n {env.value}\")\n",
        "print(f\"Agent's policy:\\n {env.policy}\")"
      ],
      "metadata": {
        "colab": {
          "base_uri": "https://localhost:8080/"
        },
        "id": "iylCuhJhRuNI",
        "outputId": "2f10b05d-51d8-41e2-e109-18be4fd32973"
      },
      "execution_count": 8,
      "outputs": [
        {
          "output_type": "stream",
          "name": "stdout",
          "text": [
            "observation space: 10, states created from observation space: [0, 1, 2, 3, 4, 5, 6, 7, 8, 9]\n",
            "action space: 10, states created from observation space: [0, 1, 2, 3, 4, 5, 6, 7, 8, 9]\n",
            "value of each states:\n",
            " [[0.]\n",
            " [0.]\n",
            " [0.]\n",
            " [0.]\n",
            " [0.]\n",
            " [0.]\n",
            " [0.]\n",
            " [0.]\n",
            " [0.]\n",
            " [0.]]\n",
            "Agent's policy:\n",
            " [[7]\n",
            " [1]\n",
            " [7]\n",
            " [3]\n",
            " [8]\n",
            " [9]\n",
            " [8]\n",
            " [6]\n",
            " [1]\n",
            " [1]]\n"
          ]
        }
      ]
    },
    {
      "cell_type": "code",
      "source": [
        "env.value_iteration()\n",
        "env.policy_iteration()"
      ],
      "metadata": {
        "id": "a8bC2bdQQtBb"
      },
      "execution_count": 9,
      "outputs": []
    },
    {
      "cell_type": "code",
      "source": [
        "print(f\"observation space: {env.observation_space.n}, states created from observation space: {env.states}\")\n",
        "print(f\"action space: {env.action_space.n}, states created from observation space: {env.actions}\")\n",
        "print(f\"value of each states:\\n {env.value}\")\n",
        "print(f\"Agent's policy:\\n {env.policy}\")"
      ],
      "metadata": {
        "colab": {
          "base_uri": "https://localhost:8080/"
        },
        "id": "wclpAoEDV821",
        "outputId": "84aa1245-d5d6-4df4-e98e-c1f132229135"
      },
      "execution_count": 10,
      "outputs": [
        {
          "output_type": "stream",
          "name": "stdout",
          "text": [
            "observation space: 10, states created from observation space: [0, 1, 2, 3, 4, 5, 6, 7, 8, 9]\n",
            "action space: 10, states created from observation space: [0, 1, 2, 3, 4, 5, 6, 7, 8, 9]\n",
            "value of each states:\n",
            " [[17.73289681]\n",
            " [17.67146856]\n",
            " [17.67463072]\n",
            " [17.69715357]\n",
            " [17.71168772]\n",
            " [17.71399782]\n",
            " [17.61402215]\n",
            " [17.72848542]\n",
            " [17.55596631]\n",
            " [17.616591  ]]\n",
            "Agent's policy:\n",
            " [[7]\n",
            " [6]\n",
            " [3]\n",
            " [7]\n",
            " [3]\n",
            " [1]\n",
            " [9]\n",
            " [2]\n",
            " [0]\n",
            " [5]]\n"
          ]
        }
      ]
    },
    {
      "cell_type": "code",
      "source": [
        "# Train an agent\n",
        "state = env.reset()\n",
        "rewards_list = []\n",
        "transitions = int(input(\"Enter the number of transitions:  \"))\n",
        "for i in range(transitions):\n",
        "    action = env.action_space.sample() # sample a random action\n",
        "    next_state, reward= env.step(action)\n",
        "    print(reward)\n",
        "    rewards_list.append(reward)\n",
        "    print(f\"state: {state}, action: {action}, next_state: {next_state}, reward: {reward}\")\n",
        "    state = next_state"
      ],
      "metadata": {
        "colab": {
          "base_uri": "https://localhost:8080/"
        },
        "id": "T5mBSiDOKzQG",
        "outputId": "0db9b4d8-f59f-4a25-ce11-2361935a1226"
      },
      "execution_count": 18,
      "outputs": [
        {
          "output_type": "stream",
          "name": "stdout",
          "text": [
            "Enter the number of transitions:  10\n",
            "0.85778005831201\n",
            "state: 0, action: 8, next_state: 8, reward: 0.85778005831201\n",
            "0.7157191404591408\n",
            "state: 8, action: 2, next_state: 8, reward: 0.7157191404591408\n",
            "0.7025647513283715\n",
            "state: 8, action: 6, next_state: 3, reward: 0.7025647513283715\n",
            "0.4029345026658129\n",
            "state: 3, action: 1, next_state: 5, reward: 0.4029345026658129\n",
            "0.2027957561308481\n",
            "state: 5, action: 2, next_state: 3, reward: 0.2027957561308481\n",
            "0.4029345026658129\n",
            "state: 3, action: 1, next_state: 8, reward: 0.4029345026658129\n",
            "0.45391330582478895\n",
            "state: 8, action: 5, next_state: 1, reward: 0.45391330582478895\n",
            "0.41257945599055923\n",
            "state: 1, action: 3, next_state: 7, reward: 0.41257945599055923\n",
            "0.7300594128731823\n",
            "state: 7, action: 0, next_state: 0, reward: 0.7300594128731823\n",
            "0.85778005831201\n",
            "state: 0, action: 8, next_state: 8, reward: 0.85778005831201\n"
          ]
        }
      ]
    },
    {
      "cell_type": "code",
      "source": [
        "import matplotlib.pyplot as plt\n",
        "plt.plot([n for n in range (transitions)], rewards_list)\n",
        "plt.xlabel(\"No of steps\")\n",
        "plt.ylabel(\"Reward\")\n",
        "plt.show()"
      ],
      "metadata": {
        "colab": {
          "base_uri": "https://localhost:8080/",
          "height": 279
        },
        "id": "adhITLuWW9An",
        "outputId": "2d567a71-0bb7-4680-c2f7-f51e653a239d"
      },
      "execution_count": 21,
      "outputs": [
        {
          "output_type": "display_data",
          "data": {
            "text/plain": [
              "<Figure size 432x288 with 1 Axes>"
            ],
            "image/png": "[encoded data removed]"
          },
          "metadata": {
            "needs_background": "light"
          }
        }
      ]
    },
    {
      "cell_type": "code",
      "source": [
        "# Train an agent\n",
        "state = env.reset()\n",
        "rewards_list = []\n",
        "transitions = int(input(\"Enter the number of transitions:  \"))\n",
        "for i in range(transitions):\n",
        "    action = int(env.policy[state]) # action based on policy\n",
        "    next_state, reward = env.step(action)\n",
        "    print(reward)\n",
        "    rewards_list.append(reward)\n",
        "    print(f\"state: {state}, action: {action}, next_state: {next_state}, reward: {reward}\")\n",
        "    env.state = next_state"
      ],
      "metadata": {
        "colab": {
          "base_uri": "https://localhost:8080/"
        },
        "id": "44dy5cS44Mcy",
        "outputId": "40c63705-f322-420e-da22-63b583c8b674"
      },
      "execution_count": 25,
      "outputs": [
        {
          "output_type": "stream",
          "name": "stdout",
          "text": [
            "Enter the number of transitions:  10\n",
            "0.9541863448297221\n",
            "state: 0, action: 7, next_state: 4, reward: 0.9541863448297221\n",
            "0.5531337748324583\n",
            "state: 0, action: 7, next_state: 5, reward: 0.5531337748324583\n",
            "0.09533654321179619\n",
            "state: 0, action: 7, next_state: 9, reward: 0.09533654321179619\n",
            "0.5850128680222514\n",
            "state: 0, action: 7, next_state: 1, reward: 0.5850128680222514\n",
            "0.6289183867225578\n",
            "state: 0, action: 7, next_state: 9, reward: 0.6289183867225578\n",
            "0.5850128680222514\n",
            "state: 0, action: 7, next_state: 7, reward: 0.5850128680222514\n",
            "0.875437881342906\n",
            "state: 0, action: 7, next_state: 4, reward: 0.875437881342906\n",
            "0.5531337748324583\n",
            "state: 0, action: 7, next_state: 1, reward: 0.5531337748324583\n",
            "0.6289183867225578\n",
            "state: 0, action: 7, next_state: 3, reward: 0.6289183867225578\n",
            "0.9067336860204553\n",
            "state: 0, action: 7, next_state: 4, reward: 0.9067336860204553\n"
          ]
        }
      ]
    },
    {
      "cell_type": "code",
      "source": [
        "import matplotlib.pyplot as plt\n",
        "plt.plot([n for n in range (transitions)], rewards_list)\n",
        "plt.xlabel(\"No of steps\")\n",
        "plt.ylabel(\"Reward\")\n",
        "plt.show()"
      ],
      "metadata": {
        "colab": {
          "base_uri": "https://localhost:8080/",
          "height": 279
        },
        "id": "6m_Aee5E5PUq",
        "outputId": "18db843d-3bd5-417b-dabd-96785f390918"
      },
      "execution_count": 26,
      "outputs": [
        {
          "output_type": "display_data",
          "data": {
            "text/plain": [
              "<Figure size 432x288 with 1 Axes>"
            ],
            "image/png": "[encoded data removed]"
          },
          "metadata": {
            "needs_background": "light"
          }
        }
      ]
    },
    {
      "cell_type": "code",
      "source": [],
      "metadata": {
        "id": "i5n5EOi25W62"
      },
      "execution_count": null,
      "outputs": []
    }
  ]
}